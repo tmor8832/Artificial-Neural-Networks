{
  "nbformat": 4,
  "nbformat_minor": 0,
  "metadata": {
    "colab": {
      "name": "30244668_Morris_Thomas_Chal_4c.ipynb",
      "provenance": [],
      "mount_file_id": "1URhv4eA-Da-Oa0X6pVlY8n4AldEBFtg8",
      "authorship_tag": "ABX9TyP3QntsyCJjVs2T5uJmms77"
    },
    "kernelspec": {
      "display_name": "Python 3",
      "name": "python3"
    }
  },
  "cells": [
    {
      "cell_type": "code",
      "metadata": {
        "colab": {
          "base_uri": "https://localhost:8080/"
        },
        "id": "8lTFB7LaFBqP",
        "outputId": "b2914c23-cd75-4baa-de97-745328f7e84e"
      },
      "source": [
        "# Fixed dependencies - do not remove or change.\n",
        "import pytest\n",
        "import pandas as pd\n",
        "import numpy as np\n",
        "import tensorflow as tf\n",
        "from google.colab import drive\n",
        "drive.mount('/content/gdrive/')"
      ],
      "execution_count": 650,
      "outputs": [
        {
          "output_type": "stream",
          "text": [
            "Drive already mounted at /content/gdrive/; to attempt to forcibly remount, call drive.mount(\"/content/gdrive/\", force_remount=True).\n"
          ],
          "name": "stdout"
        }
      ]
    },
    {
      "cell_type": "code",
      "metadata": {
        "colab": {
          "base_uri": "https://localhost:8080/"
        },
        "id": "FuCspgQHO6U1",
        "outputId": "988d380d-1d32-46d0-dd81-4dd1e61c9298"
      },
      "source": [
        "#tidy up the file and replace the ranged data with averages! makes it all tidier.\n",
        "#issues with the CSV file this makes it all work but isnt overly efficient sorry\n",
        "text = open('/content/gdrive/MyDrive/breast-cancer.csv', 'r')\n",
        "text = ''.join([i for i in text]) \\\n",
        "    .replace(\"Oct-14\", \"10-14\")\n",
        "text = ''.join([i for i in text]) \\\n",
        "    .replace(\"3-May\", \"3-5\")\n",
        "text = ''.join([i for i in text]) \\\n",
        "    .replace(\"6-Aug\", \"6-8\")\n",
        "text = ''.join([i for i in text]) \\\n",
        "    .replace(\"9-Nov\", \"9-11\")\n",
        "text = ''.join([i for i in text]) \\\n",
        "    .replace(\"40-49\", \"45\")\n",
        "text = ''.join([i for i in text]) \\\n",
        "    .replace(\"50-59\", \"55\")\n",
        "text = ''.join([i for i in text]) \\\n",
        "    .replace(\"60-69\", \"65\")\n",
        "text = ''.join([i for i in text]) \\\n",
        "    .replace(\"30-39\", \"35\")\n",
        "text = ''.join([i for i in text]) \\\n",
        "    .replace(\"70-79\", \"75\")\n",
        "text = ''.join([i for i in text]) \\\n",
        "    .replace(\"0-2\", \"1\")\n",
        "text = ''.join([i for i in text]) \\\n",
        "    .replace(\"3-5\", \"4\")\n",
        "text = ''.join([i for i in text]) \\\n",
        "    .replace(\"15-17\", \"16\")\n",
        "text = ''.join([i for i in text]) \\\n",
        "    .replace(\"6-8\", \"7\")\n",
        "text = ''.join([i for i in text]) \\\n",
        "    .replace(\"9-11\", \"10\")\n",
        "text = ''.join([i for i in text]) \\\n",
        "    .replace(\"15-19\", \"17\")\n",
        "text = ''.join([i for i in text]) \\\n",
        "    .replace(\"35-39\", \"37\")\n",
        "text = ''.join([i for i in text]) \\\n",
        "    .replace(\"30-34\", \"32\")\n",
        "text = ''.join([i for i in text]) \\\n",
        "    .replace(\"25-29\", \"27\")\n",
        "text = ''.join([i for i in text]) \\\n",
        "    .replace(\"40-44\", \"42\")\n",
        "text = ''.join([i for i in text]) \\\n",
        "    .replace(\"10-14\", \"12\")\n",
        "text = ''.join([i for i in text]) \\\n",
        "    .replace(\"0-4\", \"2\")\n",
        "text = ''.join([i for i in text]) \\\n",
        "    .replace(\"20-24\", \"22\")\n",
        "text = ''.join([i for i in text]) \\\n",
        "    .replace(\"15-19\", \"17\")\n",
        "text = ''.join([i for i in text]) \\\n",
        "    .replace(\"45-49\", \"47\")\n",
        "text = ''.join([i for i in text]) \\\n",
        "    .replace(\"50-54\", \"52\")\n",
        "text = ''.join([i for i in text]) \\\n",
        "    .replace(\"214\", \"22\")\n",
        "text = ''.join([i for i in text]) \\\n",
        "    .replace(\"?\", \"no\")\n",
        "x = open('/content/gdrive/MyDrive/breast-cancer.csv', 'w')\n",
        "x.writelines(text)\n",
        "print(x)\n",
        "x.close()"
      ],
      "execution_count": 651,
      "outputs": [
        {
          "output_type": "stream",
          "text": [
            "<_io.TextIOWrapper name='/content/gdrive/MyDrive/breast-cancer.csv' mode='w' encoding='UTF-8'>\n"
          ],
          "name": "stdout"
        }
      ]
    },
    {
      "cell_type": "code",
      "metadata": {
        "id": "z5x6c5mSFMYN"
      },
      "source": [
        "# Import data\n",
        "def import_local_data(file_path):\n",
        "    raw_df = pd.read_csv(file_path)\n",
        "    return raw_df"
      ],
      "execution_count": 652,
      "outputs": []
    },
    {
      "cell_type": "code",
      "metadata": {
        "id": "n61t5CvmI4Yq"
      },
      "source": [
        "local_file_path = '/content/gdrive/MyDrive/breast-cancer.csv'"
      ],
      "execution_count": 653,
      "outputs": []
    },
    {
      "cell_type": "code",
      "metadata": {
        "id": "NDaSk5q8J3rK"
      },
      "source": [
        "raw_data = import_local_data(local_file_path)"
      ],
      "execution_count": 654,
      "outputs": []
    },
    {
      "cell_type": "code",
      "metadata": {
        "colab": {
          "base_uri": "https://localhost:8080/"
        },
        "id": "44fSZNnlq6X1",
        "outputId": "8849e057-4be0-41fc-e052-c34074b07720"
      },
      "source": [
        "raw_data.shape"
      ],
      "execution_count": 655,
      "outputs": [
        {
          "output_type": "execute_result",
          "data": {
            "text/plain": [
              "(286, 10)"
            ]
          },
          "metadata": {
            "tags": []
          },
          "execution_count": 655
        }
      ]
    },
    {
      "cell_type": "code",
      "metadata": {
        "colab": {
          "base_uri": "https://localhost:8080/",
          "height": 204
        },
        "id": "OmtRce8ZfyPv",
        "outputId": "374e7c2e-82ff-4da2-9560-d56a9d885efa"
      },
      "source": [
        "raw_data.head() #display the data, see comments below."
      ],
      "execution_count": 656,
      "outputs": [
        {
          "output_type": "execute_result",
          "data": {
            "text/html": [
              "<div>\n",
              "<style scoped>\n",
              "    .dataframe tbody tr th:only-of-type {\n",
              "        vertical-align: middle;\n",
              "    }\n",
              "\n",
              "    .dataframe tbody tr th {\n",
              "        vertical-align: top;\n",
              "    }\n",
              "\n",
              "    .dataframe thead th {\n",
              "        text-align: right;\n",
              "    }\n",
              "</style>\n",
              "<table border=\"1\" class=\"dataframe\">\n",
              "  <thead>\n",
              "    <tr style=\"text-align: right;\">\n",
              "      <th></th>\n",
              "      <th>age</th>\n",
              "      <th>menopause</th>\n",
              "      <th>tumor-size</th>\n",
              "      <th>inv-nodes</th>\n",
              "      <th>node-caps</th>\n",
              "      <th>deg-malig</th>\n",
              "      <th>breast</th>\n",
              "      <th>breast-quad</th>\n",
              "      <th>irradiat</th>\n",
              "      <th>Class</th>\n",
              "    </tr>\n",
              "  </thead>\n",
              "  <tbody>\n",
              "    <tr>\n",
              "      <th>0</th>\n",
              "      <td>45</td>\n",
              "      <td>premeno</td>\n",
              "      <td>17</td>\n",
              "      <td>1</td>\n",
              "      <td>yes</td>\n",
              "      <td>3</td>\n",
              "      <td>right</td>\n",
              "      <td>left_up</td>\n",
              "      <td>no</td>\n",
              "      <td>recurrence-events</td>\n",
              "    </tr>\n",
              "    <tr>\n",
              "      <th>1</th>\n",
              "      <td>55</td>\n",
              "      <td>ge40</td>\n",
              "      <td>17</td>\n",
              "      <td>1</td>\n",
              "      <td>no</td>\n",
              "      <td>1</td>\n",
              "      <td>right</td>\n",
              "      <td>central</td>\n",
              "      <td>no</td>\n",
              "      <td>no-recurrence-events</td>\n",
              "    </tr>\n",
              "    <tr>\n",
              "      <th>2</th>\n",
              "      <td>55</td>\n",
              "      <td>ge40</td>\n",
              "      <td>37</td>\n",
              "      <td>1</td>\n",
              "      <td>no</td>\n",
              "      <td>2</td>\n",
              "      <td>left</td>\n",
              "      <td>left_low</td>\n",
              "      <td>no</td>\n",
              "      <td>recurrence-events</td>\n",
              "    </tr>\n",
              "    <tr>\n",
              "      <th>3</th>\n",
              "      <td>45</td>\n",
              "      <td>premeno</td>\n",
              "      <td>37</td>\n",
              "      <td>1</td>\n",
              "      <td>yes</td>\n",
              "      <td>3</td>\n",
              "      <td>right</td>\n",
              "      <td>left_low</td>\n",
              "      <td>yes</td>\n",
              "      <td>no-recurrence-events</td>\n",
              "    </tr>\n",
              "    <tr>\n",
              "      <th>4</th>\n",
              "      <td>45</td>\n",
              "      <td>premeno</td>\n",
              "      <td>32</td>\n",
              "      <td>4</td>\n",
              "      <td>yes</td>\n",
              "      <td>2</td>\n",
              "      <td>left</td>\n",
              "      <td>right_up</td>\n",
              "      <td>no</td>\n",
              "      <td>recurrence-events</td>\n",
              "    </tr>\n",
              "  </tbody>\n",
              "</table>\n",
              "</div>"
            ],
            "text/plain": [
              "   age menopause tumor-size  ... breast-quad irradiat                 Class\n",
              "0   45   premeno         17  ...     left_up       no     recurrence-events\n",
              "1   55      ge40         17  ...     central       no  no-recurrence-events\n",
              "2   55      ge40         37  ...    left_low       no     recurrence-events\n",
              "3   45   premeno         37  ...    left_low      yes  no-recurrence-events\n",
              "4   45   premeno         32  ...    right_up       no     recurrence-events\n",
              "\n",
              "[5 rows x 10 columns]"
            ]
          },
          "metadata": {
            "tags": []
          },
          "execution_count": 656
        }
      ]
    },
    {
      "cell_type": "code",
      "metadata": {
        "colab": {
          "base_uri": "https://localhost:8080/"
        },
        "id": "Xnpo4wnqo6V1",
        "outputId": "d8d65625-3bb2-42fa-af66-db43d603329a"
      },
      "source": [
        "raw_data.dtypes\n",
        "#The data has 10 columns and 286 rows\n",
        "# It is almost all object data with some int64\n",
        "#The classifier column is whether the breast cancer is recurrent or not.\n",
        "#Age: age of the patient at the time of diagnosis;\n",
        "#Menopause: whether the patient is pre- or postmenopausal at time of diagnosis;\n",
        "#Tumor size: the greatest diameter (in mm) of the excised tumor;\n",
        "#Inv-nodes: the number (range 0 - 39) of axillary lymph nodes that contain metastatic breast cancer visible on histological examination;\n",
        "#Node caps: if it is in the lymph nodes\n",
        "#Degree of malignancy: the histological grade (range 1-3) of the tumor\n",
        "#Breast: breast cancer may obviously occur in either breast;\n",
        "#Breast quadrant: the breast may be divided into four quadrants\n",
        "#Irradiation: have they had radiation therapy? Y or N\n",
        "\n",
        "#The data was tidied up as with the text replace file to make it more ML friendly\n",
        "#The age, tumor size and inv-nodes were averaged in their range\n",
        "#the incorrect values were changed e.g. Oct-16 to 10-16\n",
        "\n",
        "# SOME THINGS TO NOTE ABOUT THE DATA \n",
        "# 1. it appears there is maybe some correlation between inv-nodes and recurrence\n",
        "# 2. One hot encoding was used on the rest of the data to make it from object format to ML friend\n",
        "# 3. The breast and breast quadrant values dont agree! Therefore I will ignore the breast column.\n",
        "# 4. There are significantly more non-recurrence than recurrence events \n",
        "# which could affect the quality of the model and predictions."
      ],
      "execution_count": 657,
      "outputs": [
        {
          "output_type": "execute_result",
          "data": {
            "text/plain": [
              "age             int64\n",
              "menopause      object\n",
              "tumor-size     object\n",
              "inv-nodes      object\n",
              "node-caps      object\n",
              "deg-malig       int64\n",
              "breast         object\n",
              "breast-quad    object\n",
              "irradiat       object\n",
              "Class          object\n",
              "dtype: object"
            ]
          },
          "metadata": {
            "tags": []
          },
          "execution_count": 657
        }
      ]
    },
    {
      "cell_type": "code",
      "metadata": {
        "id": "YuRphSLBf6Cy",
        "colab": {
          "base_uri": "https://localhost:8080/",
          "height": 204
        },
        "outputId": "b88c9bd5-9f67-4c10-d005-e745c87abdec"
      },
      "source": [
        "del raw_data['breast']\n",
        "raw_data.head()"
      ],
      "execution_count": 658,
      "outputs": [
        {
          "output_type": "execute_result",
          "data": {
            "text/html": [
              "<div>\n",
              "<style scoped>\n",
              "    .dataframe tbody tr th:only-of-type {\n",
              "        vertical-align: middle;\n",
              "    }\n",
              "\n",
              "    .dataframe tbody tr th {\n",
              "        vertical-align: top;\n",
              "    }\n",
              "\n",
              "    .dataframe thead th {\n",
              "        text-align: right;\n",
              "    }\n",
              "</style>\n",
              "<table border=\"1\" class=\"dataframe\">\n",
              "  <thead>\n",
              "    <tr style=\"text-align: right;\">\n",
              "      <th></th>\n",
              "      <th>age</th>\n",
              "      <th>menopause</th>\n",
              "      <th>tumor-size</th>\n",
              "      <th>inv-nodes</th>\n",
              "      <th>node-caps</th>\n",
              "      <th>deg-malig</th>\n",
              "      <th>breast-quad</th>\n",
              "      <th>irradiat</th>\n",
              "      <th>Class</th>\n",
              "    </tr>\n",
              "  </thead>\n",
              "  <tbody>\n",
              "    <tr>\n",
              "      <th>0</th>\n",
              "      <td>45</td>\n",
              "      <td>premeno</td>\n",
              "      <td>17</td>\n",
              "      <td>1</td>\n",
              "      <td>yes</td>\n",
              "      <td>3</td>\n",
              "      <td>left_up</td>\n",
              "      <td>no</td>\n",
              "      <td>recurrence-events</td>\n",
              "    </tr>\n",
              "    <tr>\n",
              "      <th>1</th>\n",
              "      <td>55</td>\n",
              "      <td>ge40</td>\n",
              "      <td>17</td>\n",
              "      <td>1</td>\n",
              "      <td>no</td>\n",
              "      <td>1</td>\n",
              "      <td>central</td>\n",
              "      <td>no</td>\n",
              "      <td>no-recurrence-events</td>\n",
              "    </tr>\n",
              "    <tr>\n",
              "      <th>2</th>\n",
              "      <td>55</td>\n",
              "      <td>ge40</td>\n",
              "      <td>37</td>\n",
              "      <td>1</td>\n",
              "      <td>no</td>\n",
              "      <td>2</td>\n",
              "      <td>left_low</td>\n",
              "      <td>no</td>\n",
              "      <td>recurrence-events</td>\n",
              "    </tr>\n",
              "    <tr>\n",
              "      <th>3</th>\n",
              "      <td>45</td>\n",
              "      <td>premeno</td>\n",
              "      <td>37</td>\n",
              "      <td>1</td>\n",
              "      <td>yes</td>\n",
              "      <td>3</td>\n",
              "      <td>left_low</td>\n",
              "      <td>yes</td>\n",
              "      <td>no-recurrence-events</td>\n",
              "    </tr>\n",
              "    <tr>\n",
              "      <th>4</th>\n",
              "      <td>45</td>\n",
              "      <td>premeno</td>\n",
              "      <td>32</td>\n",
              "      <td>4</td>\n",
              "      <td>yes</td>\n",
              "      <td>2</td>\n",
              "      <td>right_up</td>\n",
              "      <td>no</td>\n",
              "      <td>recurrence-events</td>\n",
              "    </tr>\n",
              "  </tbody>\n",
              "</table>\n",
              "</div>"
            ],
            "text/plain": [
              "   age menopause tumor-size  ... breast-quad irradiat                 Class\n",
              "0   45   premeno         17  ...     left_up       no     recurrence-events\n",
              "1   55      ge40         17  ...     central       no  no-recurrence-events\n",
              "2   55      ge40         37  ...    left_low       no     recurrence-events\n",
              "3   45   premeno         37  ...    left_low      yes  no-recurrence-events\n",
              "4   45   premeno         32  ...    right_up       no     recurrence-events\n",
              "\n",
              "[5 rows x 9 columns]"
            ]
          },
          "metadata": {
            "tags": []
          },
          "execution_count": 658
        }
      ]
    },
    {
      "cell_type": "code",
      "metadata": {
        "id": "OBPgNmNTEuJV"
      },
      "source": [
        "#Dealing with any missing data! Only applies to the numeric data and will replace null values with the mean of column.\n",
        "from sklearn.impute import SimpleImputer\n",
        "imputer = SimpleImputer(missing_values=np.nan, strategy='mean')\n",
        "imputer.fit(X[:, 0:1])\n",
        "X[:, 0:1] = imputer.transform(X[:, 0:1])\n",
        "imputer.fit(X[:, 2:4])\n",
        "X[:, 2:4] = imputer.transform(X[:, 2:4])\n",
        "imputer.fit(X[:, 5:6])\n",
        "X[:, 5:6] = imputer.transform(X[:, 5:6])"
      ],
      "execution_count": 659,
      "outputs": []
    },
    {
      "cell_type": "code",
      "metadata": {
        "id": "1QjL3tFsu1pP"
      },
      "source": [
        "# Split your data so that you can test the effectiveness of your model\n",
        "X = raw_data.iloc[:, :-1].values #get all except last column\n",
        "y = raw_data.iloc[:, -1].values #get last column / Classifier\n",
        "\n",
        "#My processing HAS to be done like this.\n",
        "#Using OHE, if you split the data, it DOES NOT generate the same number of columns because it sees a different number of variables\n",
        "#in each test set so the columns do not equate if split the data and then process!\n",
        "#Spent so many hours on this bit and why it wouldnt work so please understand! thanks.\n",
        "from sklearn.compose import ColumnTransformer\n",
        "from sklearn.preprocessing import OneHotEncoder\n",
        "from sklearn.preprocessing import LabelEncoder\n",
        "\n",
        "ct = ColumnTransformer(transformers=[('encoder', OneHotEncoder(), [0])], remainder='passthrough')\n",
        "X = np.array(ct.fit_transform(X)) \n",
        "ct = ColumnTransformer(transformers=[('encoder', OneHotEncoder(), [6])], remainder='passthrough')\n",
        "X = np.array(ct.fit_transform(X)) \n",
        "ct = ColumnTransformer(transformers=[('encoder', OneHotEncoder(), [9])], remainder='passthrough')\n",
        "X = np.array(ct.fit_transform(X))\n",
        "ct = ColumnTransformer(transformers=[('encoder', OneHotEncoder(), [20])], remainder='passthrough')\n",
        "X = np.array(ct.fit_transform(X)) \n",
        "ct = ColumnTransformer(transformers=[('encoder', OneHotEncoder(), [27])], remainder='passthrough')\n",
        "X = np.array(ct.fit_transform(X)) \n",
        "ct = ColumnTransformer(transformers=[('encoder', OneHotEncoder(), [29])], remainder='passthrough')\n",
        "X = np.array(ct.fit_transform(X)) \n",
        "ct = ColumnTransformer(transformers=[('encoder', OneHotEncoder(), [32])], remainder='passthrough')\n",
        "X = np.array(ct.fit_transform(X)) \n",
        "ct = ColumnTransformer(transformers=[('encoder', OneHotEncoder(), [38])], remainder='passthrough')\n",
        "X = np.array(ct.fit_transform(X)) \n",
        "\n",
        "#Now encode the y values.\n",
        "le = LabelEncoder()\n",
        "y = le.fit_transform(y)"
      ],
      "execution_count": 660,
      "outputs": []
    },
    {
      "cell_type": "code",
      "metadata": {
        "id": "MY52pJNNDU4t"
      },
      "source": [
        "from sklearn.model_selection import train_test_split #create training set and test set\n",
        "x_train, x_test, y_train, y_test = train_test_split(X, y, test_size = 0.25, random_state = 0)\n",
        "#it is randomly split here so the processing before has no impact."
      ],
      "execution_count": 661,
      "outputs": []
    },
    {
      "cell_type": "code",
      "metadata": {
        "id": "_bA1OSrmvSUw"
      },
      "source": [
        "# Populate preprocess_training_data and preprocess_test_data to preprocess data.\n",
        "# You must process test and train separately so your model does not accidently gain information that a model wouldnt have in reality and therefore get better predictions\n",
        "class Module4_Model:\n",
        "    def __init__(self):\n",
        "        self.model = None\n",
        "        \n",
        "    def preprocess_training_data(self, training_df):\n",
        "      from sklearn.preprocessing import StandardScaler\n",
        "      sc = StandardScaler()\n",
        "      x_train = training_df\n",
        "      x_train = sc.fit_transform(x_train)\n",
        "#please see above comments for explanation of why it is not done here.\n",
        "      processed_df = x_train\n",
        "      return processed_df\n",
        "\n",
        "    def preprocess_test_data(self, test_df):\n",
        " #please see above comments for explanation of why it is not done here.\n",
        "      x_test = test_df\n",
        "      x_test = sc.transform(x_test)\n",
        "      processed_df = x_test\n",
        "      return processed_df"
      ],
      "execution_count": 662,
      "outputs": []
    },
    {
      "cell_type": "code",
      "metadata": {
        "id": "CcyoiqPxzZEa"
      },
      "source": [
        "# Dont change\n",
        "my_model = Module4_Model()"
      ],
      "execution_count": 663,
      "outputs": []
    },
    {
      "cell_type": "code",
      "metadata": {
        "id": "w8VrBmJjzdOR"
      },
      "source": [
        "# Dont change\n",
        "x_train_processed = my_model.preprocess_training_data(x_train)"
      ],
      "execution_count": 664,
      "outputs": []
    },
    {
      "cell_type": "code",
      "metadata": {
        "id": "1ugdsuvk2k5O"
      },
      "source": [
        "# Dont change\n",
        "x_test_processed = my_model.preprocess_test_data(x_test)"
      ],
      "execution_count": 665,
      "outputs": []
    },
    {
      "cell_type": "code",
      "metadata": {
        "id": "5gS9TZYSv8Dq"
      },
      "source": [
        "ann = tf.keras.models.Sequential() #create an ANN with sequential layers!"
      ],
      "execution_count": 666,
      "outputs": []
    },
    {
      "cell_type": "code",
      "metadata": {
        "id": "d4SZXghExa5t"
      },
      "source": [
        "ann.add(tf.keras.layers.Dense(units=6, activation='relu'))  #Add the first hidden layer with 6 neurons"
      ],
      "execution_count": 667,
      "outputs": []
    },
    {
      "cell_type": "code",
      "metadata": {
        "id": "7hKZ8PZZwAyt"
      },
      "source": [
        "ann.add(tf.keras.layers.Dense(units=6, activation='relu')) #Add the 2nd hidden layer and give it 6 hidden nuerons in this layer!"
      ],
      "execution_count": 668,
      "outputs": []
    },
    {
      "cell_type": "code",
      "metadata": {
        "id": "Qf_3EP3nxqXw"
      },
      "source": [
        "ann.add(tf.keras.layers.Dense(units=1, activation='sigmoid')) #Add the output layer"
      ],
      "execution_count": 669,
      "outputs": []
    },
    {
      "cell_type": "code",
      "metadata": {
        "id": "T56PcI3DyQSx"
      },
      "source": [
        "ann.compile(optimizer = 'adam', loss = 'binary_crossentropy', metrics = ['accuracy']) #Compile the ann with accuracy metric"
      ],
      "execution_count": 670,
      "outputs": []
    },
    {
      "cell_type": "code",
      "metadata": {
        "colab": {
          "base_uri": "https://localhost:8080/"
        },
        "id": "HgD6Y0Hcyl-j",
        "outputId": "663df16c-e3f7-4be2-eeed-e4481e38c0b1"
      },
      "source": [
        "ann.fit(x_train_processed, y_train, batch_size = 16, epochs = 100) #default batch size with 100 epochs."
      ],
      "execution_count": 671,
      "outputs": [
        {
          "output_type": "stream",
          "text": [
            "Epoch 1/100\n",
            "14/14 [==============================] - 0s 1ms/step - loss: 0.7019 - accuracy: 0.5607\n",
            "Epoch 2/100\n",
            "14/14 [==============================] - 0s 2ms/step - loss: 0.6819 - accuracy: 0.5935\n",
            "Epoch 3/100\n",
            "14/14 [==============================] - 0s 1ms/step - loss: 0.6652 - accuracy: 0.6542\n",
            "Epoch 4/100\n",
            "14/14 [==============================] - 0s 1ms/step - loss: 0.6493 - accuracy: 0.6822\n",
            "Epoch 5/100\n",
            "14/14 [==============================] - 0s 1ms/step - loss: 0.6340 - accuracy: 0.6822\n",
            "Epoch 6/100\n",
            "14/14 [==============================] - 0s 1ms/step - loss: 0.6209 - accuracy: 0.7196\n",
            "Epoch 7/100\n",
            "14/14 [==============================] - 0s 1ms/step - loss: 0.6085 - accuracy: 0.7103\n",
            "Epoch 8/100\n",
            "14/14 [==============================] - 0s 1ms/step - loss: 0.5980 - accuracy: 0.7056\n",
            "Epoch 9/100\n",
            "14/14 [==============================] - 0s 1ms/step - loss: 0.5880 - accuracy: 0.7056\n",
            "Epoch 10/100\n",
            "14/14 [==============================] - 0s 1ms/step - loss: 0.5793 - accuracy: 0.7103\n",
            "Epoch 11/100\n",
            "14/14 [==============================] - 0s 2ms/step - loss: 0.5718 - accuracy: 0.7150\n",
            "Epoch 12/100\n",
            "14/14 [==============================] - 0s 1ms/step - loss: 0.5655 - accuracy: 0.7150\n",
            "Epoch 13/100\n",
            "14/14 [==============================] - 0s 1ms/step - loss: 0.5597 - accuracy: 0.7243\n",
            "Epoch 14/100\n",
            "14/14 [==============================] - 0s 1ms/step - loss: 0.5541 - accuracy: 0.7196\n",
            "Epoch 15/100\n",
            "14/14 [==============================] - 0s 1ms/step - loss: 0.5497 - accuracy: 0.7290\n",
            "Epoch 16/100\n",
            "14/14 [==============================] - 0s 1ms/step - loss: 0.5452 - accuracy: 0.7290\n",
            "Epoch 17/100\n",
            "14/14 [==============================] - 0s 1ms/step - loss: 0.5411 - accuracy: 0.7290\n",
            "Epoch 18/100\n",
            "14/14 [==============================] - 0s 1ms/step - loss: 0.5371 - accuracy: 0.7290\n",
            "Epoch 19/100\n",
            "14/14 [==============================] - 0s 1ms/step - loss: 0.5332 - accuracy: 0.7290\n",
            "Epoch 20/100\n",
            "14/14 [==============================] - 0s 1ms/step - loss: 0.5295 - accuracy: 0.7290\n",
            "Epoch 21/100\n",
            "14/14 [==============================] - 0s 1ms/step - loss: 0.5262 - accuracy: 0.7290\n",
            "Epoch 22/100\n",
            "14/14 [==============================] - 0s 1ms/step - loss: 0.5227 - accuracy: 0.7290\n",
            "Epoch 23/100\n",
            "14/14 [==============================] - 0s 996us/step - loss: 0.5195 - accuracy: 0.7290\n",
            "Epoch 24/100\n",
            "14/14 [==============================] - 0s 1ms/step - loss: 0.5156 - accuracy: 0.7336\n",
            "Epoch 25/100\n",
            "14/14 [==============================] - 0s 961us/step - loss: 0.5117 - accuracy: 0.7336\n",
            "Epoch 26/100\n",
            "14/14 [==============================] - 0s 1ms/step - loss: 0.5080 - accuracy: 0.7336\n",
            "Epoch 27/100\n",
            "14/14 [==============================] - 0s 1ms/step - loss: 0.5046 - accuracy: 0.7383\n",
            "Epoch 28/100\n",
            "14/14 [==============================] - 0s 1ms/step - loss: 0.5011 - accuracy: 0.7383\n",
            "Epoch 29/100\n",
            "14/14 [==============================] - 0s 1ms/step - loss: 0.4984 - accuracy: 0.7383\n",
            "Epoch 30/100\n",
            "14/14 [==============================] - 0s 1ms/step - loss: 0.4936 - accuracy: 0.7383\n",
            "Epoch 31/100\n",
            "14/14 [==============================] - 0s 1ms/step - loss: 0.4906 - accuracy: 0.7383\n",
            "Epoch 32/100\n",
            "14/14 [==============================] - 0s 1ms/step - loss: 0.4873 - accuracy: 0.7383\n",
            "Epoch 33/100\n",
            "14/14 [==============================] - 0s 1ms/step - loss: 0.4846 - accuracy: 0.7383\n",
            "Epoch 34/100\n",
            "14/14 [==============================] - 0s 1ms/step - loss: 0.4803 - accuracy: 0.7383\n",
            "Epoch 35/100\n",
            "14/14 [==============================] - 0s 1ms/step - loss: 0.4773 - accuracy: 0.7383\n",
            "Epoch 36/100\n",
            "14/14 [==============================] - 0s 1ms/step - loss: 0.4735 - accuracy: 0.7336\n",
            "Epoch 37/100\n",
            "14/14 [==============================] - 0s 2ms/step - loss: 0.4704 - accuracy: 0.7383\n",
            "Epoch 38/100\n",
            "14/14 [==============================] - 0s 1ms/step - loss: 0.4671 - accuracy: 0.7430\n",
            "Epoch 39/100\n",
            "14/14 [==============================] - 0s 1ms/step - loss: 0.4645 - accuracy: 0.7430\n",
            "Epoch 40/100\n",
            "14/14 [==============================] - 0s 1ms/step - loss: 0.4612 - accuracy: 0.7523\n",
            "Epoch 41/100\n",
            "14/14 [==============================] - 0s 1ms/step - loss: 0.4585 - accuracy: 0.7523\n",
            "Epoch 42/100\n",
            "14/14 [==============================] - 0s 1ms/step - loss: 0.4554 - accuracy: 0.7523\n",
            "Epoch 43/100\n",
            "14/14 [==============================] - 0s 1ms/step - loss: 0.4533 - accuracy: 0.7523\n",
            "Epoch 44/100\n",
            "14/14 [==============================] - 0s 975us/step - loss: 0.4505 - accuracy: 0.7523\n",
            "Epoch 45/100\n",
            "14/14 [==============================] - 0s 1ms/step - loss: 0.4475 - accuracy: 0.7570\n",
            "Epoch 46/100\n",
            "14/14 [==============================] - 0s 1ms/step - loss: 0.4449 - accuracy: 0.7570\n",
            "Epoch 47/100\n",
            "14/14 [==============================] - 0s 961us/step - loss: 0.4428 - accuracy: 0.7570\n",
            "Epoch 48/100\n",
            "14/14 [==============================] - 0s 1ms/step - loss: 0.4399 - accuracy: 0.7617\n",
            "Epoch 49/100\n",
            "14/14 [==============================] - 0s 1ms/step - loss: 0.4377 - accuracy: 0.7570\n",
            "Epoch 50/100\n",
            "14/14 [==============================] - 0s 2ms/step - loss: 0.4356 - accuracy: 0.7617\n",
            "Epoch 51/100\n",
            "14/14 [==============================] - 0s 1ms/step - loss: 0.4328 - accuracy: 0.7617\n",
            "Epoch 52/100\n",
            "14/14 [==============================] - 0s 1ms/step - loss: 0.4308 - accuracy: 0.7617\n",
            "Epoch 53/100\n",
            "14/14 [==============================] - 0s 1ms/step - loss: 0.4288 - accuracy: 0.7664\n",
            "Epoch 54/100\n",
            "14/14 [==============================] - 0s 1ms/step - loss: 0.4262 - accuracy: 0.7804\n",
            "Epoch 55/100\n",
            "14/14 [==============================] - 0s 1ms/step - loss: 0.4240 - accuracy: 0.7804\n",
            "Epoch 56/100\n",
            "14/14 [==============================] - 0s 1ms/step - loss: 0.4218 - accuracy: 0.7804\n",
            "Epoch 57/100\n",
            "14/14 [==============================] - 0s 1ms/step - loss: 0.4197 - accuracy: 0.7850\n",
            "Epoch 58/100\n",
            "14/14 [==============================] - 0s 1ms/step - loss: 0.4175 - accuracy: 0.7850\n",
            "Epoch 59/100\n",
            "14/14 [==============================] - 0s 1ms/step - loss: 0.4152 - accuracy: 0.7850\n",
            "Epoch 60/100\n",
            "14/14 [==============================] - 0s 1ms/step - loss: 0.4139 - accuracy: 0.7804\n",
            "Epoch 61/100\n",
            "14/14 [==============================] - 0s 1ms/step - loss: 0.4115 - accuracy: 0.7804\n",
            "Epoch 62/100\n",
            "14/14 [==============================] - 0s 1ms/step - loss: 0.4089 - accuracy: 0.7804\n",
            "Epoch 63/100\n",
            "14/14 [==============================] - 0s 1ms/step - loss: 0.4070 - accuracy: 0.7804\n",
            "Epoch 64/100\n",
            "14/14 [==============================] - 0s 972us/step - loss: 0.4055 - accuracy: 0.7804\n",
            "Epoch 65/100\n",
            "14/14 [==============================] - 0s 1ms/step - loss: 0.4037 - accuracy: 0.7850\n",
            "Epoch 66/100\n",
            "14/14 [==============================] - 0s 969us/step - loss: 0.4013 - accuracy: 0.7850\n",
            "Epoch 67/100\n",
            "14/14 [==============================] - 0s 1ms/step - loss: 0.3996 - accuracy: 0.7850\n",
            "Epoch 68/100\n",
            "14/14 [==============================] - 0s 1ms/step - loss: 0.3975 - accuracy: 0.7850\n",
            "Epoch 69/100\n",
            "14/14 [==============================] - 0s 1ms/step - loss: 0.3958 - accuracy: 0.7897\n",
            "Epoch 70/100\n",
            "14/14 [==============================] - 0s 1ms/step - loss: 0.3938 - accuracy: 0.7850\n",
            "Epoch 71/100\n",
            "14/14 [==============================] - 0s 1ms/step - loss: 0.3919 - accuracy: 0.7850\n",
            "Epoch 72/100\n",
            "14/14 [==============================] - 0s 1ms/step - loss: 0.3903 - accuracy: 0.7850\n",
            "Epoch 73/100\n",
            "14/14 [==============================] - 0s 1ms/step - loss: 0.3885 - accuracy: 0.7850\n",
            "Epoch 74/100\n",
            "14/14 [==============================] - 0s 1ms/step - loss: 0.3865 - accuracy: 0.7944\n",
            "Epoch 75/100\n",
            "14/14 [==============================] - 0s 1ms/step - loss: 0.3848 - accuracy: 0.7944\n",
            "Epoch 76/100\n",
            "14/14 [==============================] - 0s 1ms/step - loss: 0.3830 - accuracy: 0.7944\n",
            "Epoch 77/100\n",
            "14/14 [==============================] - 0s 994us/step - loss: 0.3812 - accuracy: 0.8037\n",
            "Epoch 78/100\n",
            "14/14 [==============================] - 0s 1ms/step - loss: 0.3794 - accuracy: 0.8084\n",
            "Epoch 79/100\n",
            "14/14 [==============================] - 0s 1ms/step - loss: 0.3772 - accuracy: 0.8084\n",
            "Epoch 80/100\n",
            "14/14 [==============================] - 0s 1ms/step - loss: 0.3757 - accuracy: 0.8037\n",
            "Epoch 81/100\n",
            "14/14 [==============================] - 0s 1ms/step - loss: 0.3734 - accuracy: 0.8178\n",
            "Epoch 82/100\n",
            "14/14 [==============================] - 0s 1ms/step - loss: 0.3719 - accuracy: 0.8178\n",
            "Epoch 83/100\n",
            "14/14 [==============================] - 0s 1ms/step - loss: 0.3697 - accuracy: 0.8178\n",
            "Epoch 84/100\n",
            "14/14 [==============================] - 0s 1ms/step - loss: 0.3677 - accuracy: 0.8224\n",
            "Epoch 85/100\n",
            "14/14 [==============================] - 0s 1ms/step - loss: 0.3665 - accuracy: 0.8271\n",
            "Epoch 86/100\n",
            "14/14 [==============================] - 0s 1ms/step - loss: 0.3650 - accuracy: 0.8271\n",
            "Epoch 87/100\n",
            "14/14 [==============================] - 0s 1ms/step - loss: 0.3624 - accuracy: 0.8271\n",
            "Epoch 88/100\n",
            "14/14 [==============================] - 0s 1ms/step - loss: 0.3613 - accuracy: 0.8318\n",
            "Epoch 89/100\n",
            "14/14 [==============================] - 0s 1ms/step - loss: 0.3590 - accuracy: 0.8411\n",
            "Epoch 90/100\n",
            "14/14 [==============================] - 0s 1ms/step - loss: 0.3575 - accuracy: 0.8551\n",
            "Epoch 91/100\n",
            "14/14 [==============================] - 0s 1ms/step - loss: 0.3559 - accuracy: 0.8598\n",
            "Epoch 92/100\n",
            "14/14 [==============================] - 0s 1ms/step - loss: 0.3550 - accuracy: 0.8505\n",
            "Epoch 93/100\n",
            "14/14 [==============================] - 0s 1ms/step - loss: 0.3518 - accuracy: 0.8645\n",
            "Epoch 94/100\n",
            "14/14 [==============================] - 0s 1ms/step - loss: 0.3506 - accuracy: 0.8645\n",
            "Epoch 95/100\n",
            "14/14 [==============================] - 0s 1ms/step - loss: 0.3498 - accuracy: 0.8692\n",
            "Epoch 96/100\n",
            "14/14 [==============================] - 0s 2ms/step - loss: 0.3478 - accuracy: 0.8738\n",
            "Epoch 97/100\n",
            "14/14 [==============================] - 0s 2ms/step - loss: 0.3463 - accuracy: 0.8738\n",
            "Epoch 98/100\n",
            "14/14 [==============================] - 0s 1ms/step - loss: 0.3449 - accuracy: 0.8692\n",
            "Epoch 99/100\n",
            "14/14 [==============================] - 0s 1ms/step - loss: 0.3430 - accuracy: 0.8785\n",
            "Epoch 100/100\n",
            "14/14 [==============================] - 0s 1ms/step - loss: 0.3419 - accuracy: 0.8738\n"
          ],
          "name": "stdout"
        },
        {
          "output_type": "execute_result",
          "data": {
            "text/plain": [
              "<tensorflow.python.keras.callbacks.History at 0x7f271544c748>"
            ]
          },
          "metadata": {
            "tags": []
          },
          "execution_count": 671
        }
      ]
    },
    {
      "cell_type": "code",
      "metadata": {
        "colab": {
          "base_uri": "https://localhost:8080/"
        },
        "id": "zUna3o3J70VP",
        "outputId": "4383994d-6d55-47ac-b80e-b72a02a07c56"
      },
      "source": [
        "y_pred = ann.predict(x_test_processed) #look at the results for the ann, \n",
        "y_pred = (y_pred > 0.5)\n",
        "print(np.concatenate((y_pred.reshape(len(y_pred),1), y_test.reshape(len(y_test),1)),1))"
      ],
      "execution_count": 672,
      "outputs": [
        {
          "output_type": "stream",
          "text": [
            "WARNING:tensorflow:5 out of the last 13 calls to <function Model.make_predict_function.<locals>.predict_function at 0x7f2714b1a1e0> triggered tf.function retracing. Tracing is expensive and the excessive number of tracings could be due to (1) creating @tf.function repeatedly in a loop, (2) passing tensors with different shapes, (3) passing Python objects instead of tensors. For (1), please define your @tf.function outside of the loop. For (2), @tf.function has experimental_relax_shapes=True option that relaxes argument shapes that can avoid unnecessary retracing. For (3), please refer to https://www.tensorflow.org/tutorials/customization/performance#python_or_tensor_args and https://www.tensorflow.org/api_docs/python/tf/function for  more details.\n",
            "[[0 0]\n",
            " [0 1]\n",
            " [0 1]\n",
            " [1 1]\n",
            " [0 0]\n",
            " [0 1]\n",
            " [0 0]\n",
            " [1 1]\n",
            " [0 0]\n",
            " [0 0]\n",
            " [1 1]\n",
            " [1 0]\n",
            " [0 0]\n",
            " [1 0]\n",
            " [1 1]\n",
            " [0 0]\n",
            " [0 0]\n",
            " [0 1]\n",
            " [0 0]\n",
            " [0 0]\n",
            " [0 0]\n",
            " [0 0]\n",
            " [0 1]\n",
            " [1 0]\n",
            " [0 1]\n",
            " [0 0]\n",
            " [0 1]\n",
            " [0 0]\n",
            " [0 0]\n",
            " [0 0]\n",
            " [0 0]\n",
            " [0 0]\n",
            " [0 0]\n",
            " [0 0]\n",
            " [0 1]\n",
            " [0 0]\n",
            " [0 0]\n",
            " [0 0]\n",
            " [0 0]\n",
            " [0 1]\n",
            " [0 1]\n",
            " [0 0]\n",
            " [0 0]\n",
            " [1 1]\n",
            " [0 0]\n",
            " [0 0]\n",
            " [0 0]\n",
            " [1 1]\n",
            " [0 1]\n",
            " [1 1]\n",
            " [0 1]\n",
            " [0 0]\n",
            " [1 1]\n",
            " [1 0]\n",
            " [0 0]\n",
            " [0 1]\n",
            " [0 0]\n",
            " [0 1]\n",
            " [0 0]\n",
            " [0 1]\n",
            " [0 0]\n",
            " [0 0]\n",
            " [0 0]\n",
            " [0 0]\n",
            " [0 0]\n",
            " [0 1]\n",
            " [0 0]\n",
            " [0 0]\n",
            " [1 1]\n",
            " [1 1]\n",
            " [0 0]\n",
            " [0 1]]\n"
          ],
          "name": "stdout"
        }
      ]
    },
    {
      "cell_type": "code",
      "metadata": {
        "colab": {
          "base_uri": "https://localhost:8080/"
        },
        "id": "OlulEppG76iY",
        "outputId": "ea0f4b55-e7ac-45f6-e78b-5c7fcb881111"
      },
      "source": [
        "from sklearn.metrics import confusion_matrix, accuracy_score #print confusion matrix and accuracy score!\n",
        "cm = confusion_matrix(y_test, y_pred)\n",
        "print(cm)\n",
        "accuracy_score(y_test, y_pred)"
      ],
      "execution_count": 673,
      "outputs": [
        {
          "output_type": "stream",
          "text": [
            "[[41  4]\n",
            " [17 10]]\n"
          ],
          "name": "stdout"
        },
        {
          "output_type": "execute_result",
          "data": {
            "text/plain": [
              "0.7083333333333334"
            ]
          },
          "metadata": {
            "tags": []
          },
          "execution_count": 673
        }
      ]
    },
    {
      "cell_type": "code",
      "metadata": {
        "id": "hZHjTC08AnZw"
      },
      "source": [
        "#This model created ok results, with a decent accuracy score but still produced quite a lot of FP and i think it would need a bigger\n",
        "#dataset to make it more accurate.\n",
        "#This result however shows good accuracy just a shame about the number of FP which didnt decrease from 18-25 despite tuning efforts."
      ],
      "execution_count": 674,
      "outputs": []
    },
    {
      "cell_type": "code",
      "metadata": {
        "id": "8OXcxnfhH2Hp"
      },
      "source": [
        "def test_no_nulls(data):\n",
        "    \n",
        "    # if data is numpy array, handle accordingly\n",
        "    if isinstance(data, (np.ndarray)):\n",
        "        assert not np.isnan(np.min(data))\n",
        "    \n",
        "    # if not np array, assume data is pandas dataframe\n",
        "    else:\n",
        "        assert data.isna().sum().sum() == 0 "
      ],
      "execution_count": 675,
      "outputs": []
    },
    {
      "cell_type": "code",
      "metadata": {
        "id": "TIQmjzzjH40J"
      },
      "source": [
        "# run null data unit test on both training and test data\n",
        "test_no_nulls(x_train_processed)\n",
        "test_no_nulls(x_test_processed)"
      ],
      "execution_count": 676,
      "outputs": []
    },
    {
      "cell_type": "code",
      "metadata": {
        "id": "SEsG3acTLiIM"
      },
      "source": [
        "#I enjoyed this module but the dataset chosen made it very challenging and not applicable to the modules i learned on Udemy due to the \n",
        "#added complexity of OHE due to the strings. This made the whole task take 30+ hours to complete and was very challenging.\n",
        "#I hope this is enough to pass and demonstrate my knowledge even if it wasnt perfect! Thank you."
      ],
      "execution_count": 677,
      "outputs": []
    }
  ]
}